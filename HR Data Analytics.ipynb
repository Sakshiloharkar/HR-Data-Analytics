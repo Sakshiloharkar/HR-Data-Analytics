{
 "cells": [
  {
   "cell_type": "code",
   "execution_count": 1,
   "id": "8fddd44d",
   "metadata": {},
   "outputs": [],
   "source": [
    "#Import Libraries\n",
    "import pandas as pd\n",
    "pd.set_option('display.max_rows', None)\n",
    "import warnings\n",
    "warnings.simplefilter(action='ignore', category=UserWarning)"
   ]
  },
  {
   "cell_type": "code",
   "execution_count": 2,
   "id": "a962d54f",
   "metadata": {},
   "outputs": [
    {
     "name": "stdout",
     "output_type": "stream",
     "text": [
      "************************************************ Sheet 0 ******************************************************************\n",
      "************************************************ Sheet 1 ******************************************************************\n",
      "************************************************ Sheet 2 ******************************************************************\n"
     ]
    }
   ],
   "source": [
    "#Automated code to extract and transform data from multiple sheets to regular format for power bi.\n",
    "f = pd.ExcelFile('Attendance Sheet 2022-2023_Masked.xlsx')\n",
    "\n",
    "dfs = [] \n",
    "\n",
    "for sheet in f.sheet_names:  \n",
    "    df = f.parse(sheet)  \n",
    "    dfs.append(df)\n",
    "       \n",
    "key=dfs[3].copy()  # extracting attendance key sheet\n",
    "\n",
    "#extracting first 3 sheets data\n",
    "newdf=pd.DataFrame(columns=['Employee Code','Name','Date','Value'])\n",
    "for i in range(3):\n",
    "    df=dfs[i]\n",
    "    print('************************************************','Sheet',i,'******************************************************************')\n",
    "    new_header = df.iloc[0]\n",
    "    df=df[1:]\n",
    "    df.columns=new_header\n",
    "    df= df.reset_index()\n",
    "    df_unpivot = pd.melt(df, id_vars=['Employee Code','Name'], value_vars=df.iloc[:,2:],\n",
    "                       var_name='Date', value_name='Value')\n",
    "    dfresult = df_unpivot.dropna()\n",
    "    dfresult=dfresult.reset_index()\n",
    "    dfresult.drop(dfresult[dfresult['Date'].str.len() <=4].index, inplace = True)\n",
    "    dfresult['Date']=pd.to_datetime(dfresult.Date)\n",
    "    dfresult=dfresult.drop(['index'],axis=1)\n",
    "    newdf = pd.concat([newdf, dfresult],ignore_index = True)"
   ]
  },
  {
   "cell_type": "code",
   "execution_count": 3,
   "id": "49f5c3e9",
   "metadata": {},
   "outputs": [
    {
     "data": {
      "text/html": [
       "<div>\n",
       "<style scoped>\n",
       "    .dataframe tbody tr th:only-of-type {\n",
       "        vertical-align: middle;\n",
       "    }\n",
       "\n",
       "    .dataframe tbody tr th {\n",
       "        vertical-align: top;\n",
       "    }\n",
       "\n",
       "    .dataframe thead th {\n",
       "        text-align: right;\n",
       "    }\n",
       "</style>\n",
       "<table border=\"1\" class=\"dataframe\">\n",
       "  <thead>\n",
       "    <tr style=\"text-align: right;\">\n",
       "      <th></th>\n",
       "      <th>Employee Code</th>\n",
       "      <th>Name</th>\n",
       "      <th>Date</th>\n",
       "      <th>Value</th>\n",
       "    </tr>\n",
       "  </thead>\n",
       "  <tbody>\n",
       "    <tr>\n",
       "      <th>0</th>\n",
       "      <td>Atq -406</td>\n",
       "      <td>Thanos Thakur</td>\n",
       "      <td>2022-06-01</td>\n",
       "      <td>P</td>\n",
       "    </tr>\n",
       "    <tr>\n",
       "      <th>1</th>\n",
       "      <td>Atq -462</td>\n",
       "      <td>Jarvis Singh</td>\n",
       "      <td>2022-06-01</td>\n",
       "      <td>P</td>\n",
       "    </tr>\n",
       "    <tr>\n",
       "      <th>2</th>\n",
       "      <td>Atq -411</td>\n",
       "      <td>Nevaeh Waller</td>\n",
       "      <td>2022-06-01</td>\n",
       "      <td>P</td>\n",
       "    </tr>\n",
       "    <tr>\n",
       "      <th>3</th>\n",
       "      <td>Atq -398</td>\n",
       "      <td>Bo Cordova</td>\n",
       "      <td>2022-06-01</td>\n",
       "      <td>SL</td>\n",
       "    </tr>\n",
       "    <tr>\n",
       "      <th>4</th>\n",
       "      <td>Atq -438</td>\n",
       "      <td>Mekhi Singleton</td>\n",
       "      <td>2022-06-01</td>\n",
       "      <td>P</td>\n",
       "    </tr>\n",
       "  </tbody>\n",
       "</table>\n",
       "</div>"
      ],
      "text/plain": [
       "  Employee Code             Name       Date Value\n",
       "0      Atq -406    Thanos Thakur 2022-06-01     P\n",
       "1      Atq -462     Jarvis Singh 2022-06-01     P\n",
       "2      Atq -411    Nevaeh Waller 2022-06-01     P\n",
       "3      Atq -398       Bo Cordova 2022-06-01    SL\n",
       "4      Atq -438  Mekhi Singleton 2022-06-01     P"
      ]
     },
     "execution_count": 3,
     "metadata": {},
     "output_type": "execute_result"
    }
   ],
   "source": [
    "newdf.head()"
   ]
  },
  {
   "cell_type": "code",
   "execution_count": 4,
   "id": "1ea6ece3",
   "metadata": {},
   "outputs": [
    {
     "name": "stdout",
     "output_type": "stream",
     "text": [
      "<class 'pandas.core.frame.DataFrame'>\n",
      "RangeIndex: 6492 entries, 0 to 6491\n",
      "Data columns (total 4 columns):\n",
      " #   Column         Non-Null Count  Dtype         \n",
      "---  ------         --------------  -----         \n",
      " 0   Employee Code  6492 non-null   object        \n",
      " 1   Name           6492 non-null   object        \n",
      " 2   Date           6492 non-null   datetime64[ns]\n",
      " 3   Value          6492 non-null   object        \n",
      "dtypes: datetime64[ns](1), object(3)\n",
      "memory usage: 203.0+ KB\n"
     ]
    }
   ],
   "source": [
    "newdf.info()"
   ]
  },
  {
   "cell_type": "code",
   "execution_count": 5,
   "id": "80c0521d",
   "metadata": {},
   "outputs": [],
   "source": [
    "newdf['Date']=pd.to_datetime(newdf.Date)\n",
    "newdf['Date'] =newdf['Date'].dt.date"
   ]
  },
  {
   "cell_type": "code",
   "execution_count": 7,
   "id": "e267c828",
   "metadata": {},
   "outputs": [],
   "source": [
    "newdf.to_excel('Final Data.xlsx',index=False)"
   ]
  },
  {
   "cell_type": "code",
   "execution_count": null,
   "id": "aed013bc",
   "metadata": {},
   "outputs": [],
   "source": []
  },
  {
   "cell_type": "code",
   "execution_count": null,
   "id": "8310ed55",
   "metadata": {},
   "outputs": [],
   "source": []
  },
  {
   "cell_type": "code",
   "execution_count": null,
   "id": "0f3b1b9a",
   "metadata": {},
   "outputs": [],
   "source": []
  },
  {
   "cell_type": "code",
   "execution_count": null,
   "id": "694eb051",
   "metadata": {},
   "outputs": [],
   "source": []
  },
  {
   "cell_type": "code",
   "execution_count": null,
   "id": "2879d97e",
   "metadata": {},
   "outputs": [],
   "source": []
  },
  {
   "cell_type": "code",
   "execution_count": null,
   "id": "80843cd1",
   "metadata": {},
   "outputs": [],
   "source": []
  },
  {
   "cell_type": "code",
   "execution_count": null,
   "id": "d99d7f3b",
   "metadata": {},
   "outputs": [],
   "source": []
  }
 ],
 "metadata": {
  "kernelspec": {
   "display_name": "Python 3 (ipykernel)",
   "language": "python",
   "name": "python3"
  },
  "language_info": {
   "codemirror_mode": {
    "name": "ipython",
    "version": 3
   },
   "file_extension": ".py",
   "mimetype": "text/x-python",
   "name": "python",
   "nbconvert_exporter": "python",
   "pygments_lexer": "ipython3",
   "version": "3.9.7"
  }
 },
 "nbformat": 4,
 "nbformat_minor": 5
}
